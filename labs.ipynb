{
 "cells": [
  {
   "cell_type": "markdown",
   "metadata": {},
   "source": [
    "# Slices"
   ]
  },
  {
   "cell_type": "markdown",
   "metadata": {},
   "source": [
    "Given a string s = 'Hello World!', take the slice 'World'"
   ]
  },
  {
   "cell_type": "code",
   "execution_count": 45,
   "metadata": {},
   "outputs": [
    {
     "data": {
      "text/plain": [
       "'World'"
      ]
     },
     "execution_count": 45,
     "metadata": {},
     "output_type": "execute_result"
    }
   ],
   "source": [
    "s =\"Hello World!\"\n",
    "s[6:-1]"
   ]
  },
  {
   "cell_type": "markdown",
   "metadata": {},
   "source": [
    "Given a list a = list(range(100)), take a slice of it that lists all numbers that are multiple of 5 in reverse order: [95, 90, 85, 80, 75, 70, 65, 60, 55, 50, 45, 40, 35, 30, 25, 20, 15, 10, 5, 0]"
   ]
  },
  {
   "cell_type": "code",
   "execution_count": 54,
   "metadata": {},
   "outputs": [
    {
     "data": {
      "text/plain": [
       "[95, 90, 85, 80, 75, 70, 65, 60, 55, 50, 45, 40, 35, 30, 25, 20, 15, 10, 5, 0]"
      ]
     },
     "execution_count": 54,
     "metadata": {},
     "output_type": "execute_result"
    }
   ],
   "source": [
    "a = list(range(100))\n",
    "a[-5::5]"
   ]
  },
  {
   "cell_type": "markdown",
   "metadata": {},
   "source": [
    "For the above task, create a named slice and use it on another list b = list(range(200)). Make sure it returns correct results (from 195 to 0)"
   ]
  },
  {
   "cell_type": "code",
   "execution_count": 56,
   "metadata": {},
   "outputs": [
    {
     "data": {
      "text/plain": [
       "[195,\n",
       " 190,\n",
       " 185,\n",
       " 180,\n",
       " 175,\n",
       " 170,\n",
       " 165,\n",
       " 160,\n",
       " 155,\n",
       " 150,\n",
       " 145,\n",
       " 140,\n",
       " 135,\n",
       " 130,\n",
       " 125,\n",
       " 120,\n",
       " 115,\n",
       " 110,\n",
       " 105,\n",
       " 100,\n",
       " 95,\n",
       " 90,\n",
       " 85,\n",
       " 80,\n",
       " 75,\n",
       " 70,\n",
       " 65,\n",
       " 60,\n",
       " 55,\n",
       " 50,\n",
       " 45,\n",
       " 40,\n",
       " 35,\n",
       " 30,\n",
       " 25,\n",
       " 20,\n",
       " 15,\n",
       " 10,\n",
       " 5,\n",
       " 0]"
      ]
     },
     "execution_count": 56,
     "metadata": {},
     "output_type": "execute_result"
    }
   ],
   "source": [
    "b = list((range(200)))\n",
    "slc = slice(0, -4, 5)\n",
    "b[slc][::-1]"
   ]
  },
  {
   "cell_type": "markdown",
   "metadata": {},
   "source": [
    "# List sorting"
   ]
  },
  {
   "cell_type": "markdown",
   "metadata": {},
   "source": [
    "Given a list of numbers, sort them descending in-place"
   ]
  },
  {
   "cell_type": "code",
   "execution_count": 70,
   "metadata": {},
   "outputs": [
    {
     "data": {
      "text/plain": [
       "[24,\n",
       " 23,\n",
       " 22,\n",
       " 21,\n",
       " 20,\n",
       " 19,\n",
       " 18,\n",
       " 17,\n",
       " 16,\n",
       " 15,\n",
       " 14,\n",
       " 13,\n",
       " 12,\n",
       " 11,\n",
       " 10,\n",
       " 9,\n",
       " 8,\n",
       " 7,\n",
       " 6,\n",
       " 5,\n",
       " 4,\n",
       " 3,\n",
       " 2,\n",
       " 1,\n",
       " 0]"
      ]
     },
     "execution_count": 70,
     "metadata": {},
     "output_type": "execute_result"
    }
   ],
   "source": [
    "import random\n",
    "numbers = list(range(25))\n",
    "numbers.sort(reverse=True)\n",
    "numbers"
   ]
  },
  {
   "cell_type": "markdown",
   "metadata": {},
   "source": [
    "Given a sequence of strings, sort them (case insensitive)"
   ]
  },
  {
   "cell_type": "code",
   "execution_count": 4,
   "metadata": {},
   "outputs": [
    {
     "data": {
      "text/plain": [
       "['are', 'Cat', 'Hello', 'how', 'You??']"
      ]
     },
     "execution_count": 4,
     "metadata": {},
     "output_type": "execute_result"
    }
   ],
   "source": [
    "strings = [\"Hello\", \"Cat\", \"how\", \"are\", \"You??\"]\n",
    "sorted(strings, key=str.lower)"
   ]
  },
  {
   "cell_type": "markdown",
   "metadata": {},
   "source": [
    "Given a sequence of strings, sort them by last letter"
   ]
  },
  {
   "cell_type": "code",
   "execution_count": 72,
   "metadata": {},
   "outputs": [
    {
     "data": {
      "text/plain": [
       "['You??', 'are', 'Hello', 'Cat', 'how']"
      ]
     },
     "execution_count": 72,
     "metadata": {},
     "output_type": "execute_result"
    }
   ],
   "source": [
    "strings = [\"Hello\", \"Cat\", \"how\", \"are\", \"You??\"]\n",
    "sorted(strings, key=lambda x: x[::-1])"
   ]
  },
  {
   "cell_type": "markdown",
   "metadata": {},
   "source": [
    "Given a sequence of strings, sort them by length"
   ]
  },
  {
   "cell_type": "code",
   "execution_count": 6,
   "metadata": {},
   "outputs": [
    {
     "data": {
      "text/plain": [
       "['Cat', 'how', 'are', 'Hello', 'You??']"
      ]
     },
     "execution_count": 6,
     "metadata": {},
     "output_type": "execute_result"
    }
   ],
   "source": [
    "strings = [\"Hello\", \"Cat\", \"how\", \"are\", \"You??\"]\n",
    "sorted(strings, key=len)"
   ]
  },
  {
   "cell_type": "markdown",
   "metadata": {},
   "source": [
    "# List comprehensions"
   ]
  },
  {
   "cell_type": "markdown",
   "metadata": {},
   "source": [
    "Produce a list of squares of numbers from 0 to 99"
   ]
  },
  {
   "cell_type": "code",
   "execution_count": 1,
   "metadata": {},
   "outputs": [
    {
     "data": {
      "text/plain": [
       "[0, 1, 4, 9, 16, 25, 36, 49, 64, 81]"
      ]
     },
     "execution_count": 1,
     "metadata": {},
     "output_type": "execute_result"
    }
   ],
   "source": [
    "number = [x ** 2 for x in range(10)]\n",
    "number"
   ]
  },
  {
   "cell_type": "markdown",
   "metadata": {},
   "source": [
    "Produce a list of numbers from 0 to 99 that are multiple of 3"
   ]
  },
  {
   "cell_type": "code",
   "execution_count": 2,
   "metadata": {},
   "outputs": [
    {
     "data": {
      "text/plain": [
       "[0, 3, 6, 9]"
      ]
     },
     "execution_count": 2,
     "metadata": {},
     "output_type": "execute_result"
    }
   ],
   "source": [
    "numbers = [x for x in range(10) if x % 3 == 0]\n",
    "numbers"
   ]
  },
  {
   "cell_type": "markdown",
   "metadata": {},
   "source": [
    "Create a new list out of a given list of numbers, which contains only the positive numbers from the list"
   ]
  },
  {
   "cell_type": "code",
   "execution_count": 11,
   "metadata": {},
   "outputs": [
    {
     "data": {
      "text/plain": [
       "[1, 4, 6, 43, 64, 45, 72]"
      ]
     },
     "execution_count": 11,
     "metadata": {},
     "output_type": "execute_result"
    }
   ],
   "source": [
    "numbers = [1, -3, 4, 6, 43, -43, 64, 45, 72, -2121, 0, -123]\n",
    "positive_numbers = [x for x in numbers if x > 0]\n",
    "positive_numbers"
   ]
  },
  {
   "cell_type": "markdown",
   "metadata": {},
   "source": [
    "Given a sentence, produce a list of last letters of every word"
   ]
  },
  {
   "cell_type": "code",
   "execution_count": 68,
   "metadata": {},
   "outputs": [
    {
     "data": {
      "text/plain": [
       "['o', 'o', 'r', '.', 'e', 'u', 'g']"
      ]
     },
     "execution_count": 68,
     "metadata": {},
     "output_type": "execute_result"
    }
   ],
   "source": [
    "sentence = \"Hello foo bar what are you doing\"\n",
    "last_letters = [x[len(x)-1:] for x in sentence.split()]\n",
    "last_letters"
   ]
  },
  {
   "cell_type": "markdown",
   "metadata": {},
   "source": [
    "Given two lists (a = [a1, a2]; b = [b1, b2, b3]), produce a list of all possible pairs of their elements [(a1, b1), (a1, b2), (a1, b3), (a2, b1), (a2, b2), (a2, b3)]"
   ]
  },
  {
   "cell_type": "code",
   "execution_count": 39,
   "metadata": {},
   "outputs": [
    {
     "data": {
      "text/plain": [
       "[('a1', 'b1'),\n",
       " ('a1', 'b2'),\n",
       " ('a1', 'b3'),\n",
       " ('a2', 'b1'),\n",
       " ('a2', 'b2'),\n",
       " ('a2', 'b3')]"
      ]
     },
     "execution_count": 39,
     "metadata": {},
     "output_type": "execute_result"
    }
   ],
   "source": [
    "a = [\"a1\", \"a2\"]\n",
    "b = [\"b1\", \"b2\", \"b3\"]\n",
    "ab = [(x, y) for x in a for y in b]\n",
    "ab"
   ]
  },
  {
   "cell_type": "markdown",
   "metadata": {},
   "source": [
    "Build a list of lists of 5 random numbers ranging from 1 to 6"
   ]
  },
  {
   "cell_type": "code",
   "execution_count": 2,
   "metadata": {},
   "outputs": [
    {
     "data": {
      "text/plain": [
       "[[2, 3, 4, 2, 1],\n",
       " [4, 2, 5, 3, 4],\n",
       " [5, 6, 3, 6, 5],\n",
       " [5, 2, 1, 1, 3],\n",
       " [1, 3, 3, 4, 4]]"
      ]
     },
     "execution_count": 2,
     "metadata": {},
     "output_type": "execute_result"
    }
   ],
   "source": [
    "import random\n",
    "numbers = [[random.randint(1, 6) for x in range(5)] for _ in range(5)]\n",
    "numbers"
   ]
  },
  {
   "cell_type": "markdown",
   "metadata": {},
   "source": [
    "# Dict comprehensions"
   ]
  },
  {
   "cell_type": "markdown",
   "metadata": {},
   "source": [
    "Map the numbers from 0 to 99 to their cubes"
   ]
  },
  {
   "cell_type": "code",
   "execution_count": 45,
   "metadata": {},
   "outputs": [
    {
     "data": {
      "text/plain": [
       "{0: 0,\n",
       " 1: 1,\n",
       " 2: 8,\n",
       " 3: 27,\n",
       " 4: 64,\n",
       " 5: 125,\n",
       " 6: 216,\n",
       " 7: 343,\n",
       " 8: 512,\n",
       " 9: 729,\n",
       " 10: 1000,\n",
       " 11: 1331,\n",
       " 12: 1728,\n",
       " 13: 2197,\n",
       " 14: 2744,\n",
       " 15: 3375,\n",
       " 16: 4096,\n",
       " 17: 4913,\n",
       " 18: 5832,\n",
       " 19: 6859,\n",
       " 20: 8000,\n",
       " 21: 9261,\n",
       " 22: 10648,\n",
       " 23: 12167,\n",
       " 24: 13824,\n",
       " 25: 15625,\n",
       " 26: 17576,\n",
       " 27: 19683,\n",
       " 28: 21952,\n",
       " 29: 24389,\n",
       " 30: 27000,\n",
       " 31: 29791,\n",
       " 32: 32768,\n",
       " 33: 35937,\n",
       " 34: 39304,\n",
       " 35: 42875,\n",
       " 36: 46656,\n",
       " 37: 50653,\n",
       " 38: 54872,\n",
       " 39: 59319,\n",
       " 40: 64000,\n",
       " 41: 68921,\n",
       " 42: 74088,\n",
       " 43: 79507,\n",
       " 44: 85184,\n",
       " 45: 91125,\n",
       " 46: 97336,\n",
       " 47: 103823,\n",
       " 48: 110592,\n",
       " 49: 117649,\n",
       " 50: 125000,\n",
       " 51: 132651,\n",
       " 52: 140608,\n",
       " 53: 148877,\n",
       " 54: 157464,\n",
       " 55: 166375,\n",
       " 56: 175616,\n",
       " 57: 185193,\n",
       " 58: 195112,\n",
       " 59: 205379,\n",
       " 60: 216000,\n",
       " 61: 226981,\n",
       " 62: 238328,\n",
       " 63: 250047,\n",
       " 64: 262144,\n",
       " 65: 274625,\n",
       " 66: 287496,\n",
       " 67: 300763,\n",
       " 68: 314432,\n",
       " 69: 328509,\n",
       " 70: 343000,\n",
       " 71: 357911,\n",
       " 72: 373248,\n",
       " 73: 389017,\n",
       " 74: 405224,\n",
       " 75: 421875,\n",
       " 76: 438976,\n",
       " 77: 456533,\n",
       " 78: 474552,\n",
       " 79: 493039,\n",
       " 80: 512000,\n",
       " 81: 531441,\n",
       " 82: 551368,\n",
       " 83: 571787,\n",
       " 84: 592704,\n",
       " 85: 614125,\n",
       " 86: 636056,\n",
       " 87: 658503,\n",
       " 88: 681472,\n",
       " 89: 704969,\n",
       " 90: 729000,\n",
       " 91: 753571,\n",
       " 92: 778688,\n",
       " 93: 804357,\n",
       " 94: 830584,\n",
       " 95: 857375,\n",
       " 96: 884736,\n",
       " 97: 912673,\n",
       " 98: 941192}"
      ]
     },
     "execution_count": 45,
     "metadata": {},
     "output_type": "execute_result"
    }
   ],
   "source": [
    "cubes = {x: x**3 for x in range(99)}\n",
    "cubes"
   ]
  },
  {
   "cell_type": "markdown",
   "metadata": {},
   "source": [
    "Given two lists of the same length, build a dictionary where keys are elements of the first list, and values are elements of the second list"
   ]
  },
  {
   "cell_type": "code",
   "execution_count": 6,
   "metadata": {},
   "outputs": [
    {
     "data": {
      "text/plain": [
       "{1: 'foo', 2: 'bar', 3: 'hello', 4: 'world'}"
      ]
     },
     "execution_count": 6,
     "metadata": {},
     "output_type": "execute_result"
    }
   ],
   "source": [
    "l_keys = [1, 2, 3, 4]\n",
    "l_values = [\"foo\", \"bar\", \"hello\", \"world\"]\n",
    "new_dict = dict(zip(l_keys, l_values))\n",
    "new_dict"
   ]
  },
  {
   "cell_type": "markdown",
   "metadata": {},
   "source": [
    "Given two dicts with overlapping keys and values of type list, build a dict containing all keys by concatenating value lists\n",
    "d1, d2 = dict(k1=[v11, v12], k2=[v21]), dict(k2=[v22], k3=[v31, v32])\n",
    "Expected result: dict(k1=[v11, v12], k2=[v21, v22], k3=[v31, v32])"
   ]
  },
  {
   "cell_type": "code",
   "execution_count": 4,
   "metadata": {},
   "outputs": [
    {
     "data": {
      "text/plain": [
       "{'k2': [2, 3], 'k3': [4, 5], 'k1': [0, 1]}"
      ]
     },
     "execution_count": 4,
     "metadata": {},
     "output_type": "execute_result"
    }
   ],
   "source": [
    "v11, v12, v21, v22, v31, v32 = range(6)\n",
    "d1, d2 = dict(k1=[v11, v12], k2=[v21]), dict(k2=[v22], k3=[v31, v32])\n",
    "dict((k, d1.get(k, []) + d2.get(k, [])) for k in set(d1).union(d2))"
   ]
  },
  {
   "cell_type": "markdown",
   "metadata": {},
   "source": [
    "# Generators"
   ]
  },
  {
   "cell_type": "markdown",
   "metadata": {},
   "source": [
    "Write a generator function that returns the Fibonacci series"
   ]
  },
  {
   "cell_type": "code",
   "execution_count": 124,
   "metadata": {},
   "outputs": [
    {
     "name": "stdout",
     "output_type": "stream",
     "text": [
      "1\n",
      "1\n",
      "2\n",
      "3\n",
      "5\n",
      "8\n",
      "13\n",
      "21\n",
      "34\n",
      "55\n"
     ]
    }
   ],
   "source": [
    "def fibonacci(numbers):\n",
    "    previous = 0\n",
    "    current = 1\n",
    "    for _ in range(numbers):\n",
    "        yield current\n",
    "        previous, current = current, previous + current\n",
    "        \n",
    "for i in fibonacci(10):\n",
    "    print(i)"
   ]
  },
  {
   "cell_type": "markdown",
   "metadata": {},
   "source": [
    "Write a generator of a geometric progression (with an argument)"
   ]
  },
  {
   "cell_type": "code",
   "execution_count": 125,
   "metadata": {},
   "outputs": [
    {
     "name": "stdout",
     "output_type": "stream",
     "text": [
      "1\n",
      "2\n",
      "4\n",
      "8\n",
      "16\n",
      "32\n",
      "64\n",
      "128\n",
      "256\n",
      "512\n",
      "1024\n",
      "2048\n",
      "4096\n",
      "8192\n",
      "16384\n"
     ]
    }
   ],
   "source": [
    "def geometric(start, numbers, ratio):\n",
    "    for _ in range(numbers):\n",
    "        yield start\n",
    "        start *= ratio\n",
    "        \n",
    "for i in geometric(1, 15, 2):\n",
    "    print(i)"
   ]
  },
  {
   "cell_type": "markdown",
   "metadata": {},
   "source": [
    "Write a countdown(n) generator function that yields numbers from a positive n down to 0"
   ]
  },
  {
   "cell_type": "code",
   "execution_count": 123,
   "metadata": {},
   "outputs": [
    {
     "name": "stdout",
     "output_type": "stream",
     "text": [
      "100\n",
      "99\n",
      "98\n",
      "97\n",
      "96\n",
      "95\n",
      "94\n",
      "93\n",
      "92\n",
      "91\n",
      "90\n",
      "89\n",
      "88\n",
      "87\n",
      "86\n",
      "85\n",
      "84\n",
      "83\n",
      "82\n",
      "81\n",
      "80\n",
      "79\n",
      "78\n",
      "77\n",
      "76\n",
      "75\n",
      "74\n",
      "73\n",
      "72\n",
      "71\n",
      "70\n",
      "69\n",
      "68\n",
      "67\n",
      "66\n",
      "65\n",
      "64\n",
      "63\n",
      "62\n",
      "61\n",
      "60\n",
      "59\n",
      "58\n",
      "57\n",
      "56\n",
      "55\n",
      "54\n",
      "53\n",
      "52\n",
      "51\n",
      "50\n",
      "49\n",
      "48\n",
      "47\n",
      "46\n",
      "45\n",
      "44\n",
      "43\n",
      "42\n",
      "41\n",
      "40\n",
      "39\n",
      "38\n",
      "37\n",
      "36\n",
      "35\n",
      "34\n",
      "33\n",
      "32\n",
      "31\n",
      "30\n",
      "29\n",
      "28\n",
      "27\n",
      "26\n",
      "25\n",
      "24\n",
      "23\n",
      "22\n",
      "21\n",
      "20\n",
      "19\n",
      "18\n",
      "17\n",
      "16\n",
      "15\n",
      "14\n",
      "13\n",
      "12\n",
      "11\n",
      "10\n",
      "9\n",
      "8\n",
      "7\n",
      "6\n",
      "5\n",
      "4\n",
      "3\n",
      "2\n",
      "1\n",
      "0\n"
     ]
    }
   ],
   "source": [
    "def countdown(n):\n",
    "    for i in range(n + 1):\n",
    "        yield n - i\n",
    "        \n",
    "for i in countdown(100):\n",
    "    print(i)"
   ]
  },
  {
   "cell_type": "markdown",
   "metadata": {},
   "source": [
    "# Iterators"
   ]
  },
  {
   "cell_type": "markdown",
   "metadata": {},
   "source": [
    "Write an iterator class that iterates over the Fibonacci series"
   ]
  },
  {
   "cell_type": "code",
   "execution_count": 135,
   "metadata": {},
   "outputs": [
    {
     "name": "stdout",
     "output_type": "stream",
     "text": [
      "1\n",
      "1\n",
      "2\n",
      "3\n",
      "5\n",
      "8\n",
      "13\n",
      "21\n",
      "34\n",
      "55\n"
     ]
    }
   ],
   "source": [
    "class FibonacciIterator:\n",
    "    def __iter__(self):\n",
    "        return self\n",
    "    \n",
    "    def __init__(self, limit):\n",
    "        self.limit = limit\n",
    "        self.counter = 0\n",
    "        self.previous = 0\n",
    "        self.current = 1\n",
    "    \n",
    "    def __next__(self):\n",
    "        if self.counter < self.limit:\n",
    "            self.counter += 1\n",
    "            self.previous, self.current = self.current, self.previous + self.current\n",
    "            return self.previous\n",
    "        else:\n",
    "            raise StopIteration\n",
    "\n",
    "fib = FibonacciIterator(limit=10)\n",
    "for i in fib:\n",
    "    print(i)"
   ]
  },
  {
   "cell_type": "markdown",
   "metadata": {},
   "source": [
    "Write an iterator for a geometric progression (with an argument)"
   ]
  },
  {
   "cell_type": "code",
   "execution_count": 139,
   "metadata": {},
   "outputs": [
    {
     "name": "stdout",
     "output_type": "stream",
     "text": [
      "1\n",
      "2\n",
      "4\n",
      "8\n",
      "16\n",
      "32\n",
      "64\n",
      "128\n",
      "256\n",
      "512\n"
     ]
    }
   ],
   "source": [
    "class GeometricIterator:\n",
    "    def __iter__(self):\n",
    "        return self\n",
    "    \n",
    "    def __init__(self, limit, ratio):\n",
    "        self.limit = limit\n",
    "        self.counter = 0\n",
    "        self.previous = 1\n",
    "        self.current = 1\n",
    "        self.ratio = ratio\n",
    "    \n",
    "    def __next__(self):\n",
    "        if self.counter < self.limit:\n",
    "            self.counter += 1\n",
    "            self.previous, self.current = self.current, self.current * self.ratio\n",
    "            return self.previous\n",
    "        else:\n",
    "            raise StopIteration\n",
    "\n",
    "geom = GeometricIterator(limit=10, ratio=2)\n",
    "for i in geom:\n",
    "    print(i)"
   ]
  },
  {
   "cell_type": "markdown",
   "metadata": {},
   "source": [
    "Write a Countdown iterator class that returns numbers from a positive n down to 0"
   ]
  },
  {
   "cell_type": "code",
   "execution_count": 142,
   "metadata": {},
   "outputs": [
    {
     "name": "stdout",
     "output_type": "stream",
     "text": [
      "100\n",
      "99\n",
      "98\n",
      "97\n",
      "96\n",
      "95\n",
      "94\n",
      "93\n",
      "92\n",
      "91\n",
      "90\n",
      "89\n",
      "88\n",
      "87\n",
      "86\n",
      "85\n",
      "84\n",
      "83\n",
      "82\n",
      "81\n",
      "80\n",
      "79\n",
      "78\n",
      "77\n",
      "76\n",
      "75\n",
      "74\n",
      "73\n",
      "72\n",
      "71\n",
      "70\n",
      "69\n",
      "68\n",
      "67\n",
      "66\n",
      "65\n",
      "64\n",
      "63\n",
      "62\n",
      "61\n",
      "60\n",
      "59\n",
      "58\n",
      "57\n",
      "56\n",
      "55\n",
      "54\n",
      "53\n",
      "52\n",
      "51\n",
      "50\n",
      "49\n",
      "48\n",
      "47\n",
      "46\n",
      "45\n",
      "44\n",
      "43\n",
      "42\n",
      "41\n",
      "40\n",
      "39\n",
      "38\n",
      "37\n",
      "36\n",
      "35\n",
      "34\n",
      "33\n",
      "32\n",
      "31\n",
      "30\n",
      "29\n",
      "28\n",
      "27\n",
      "26\n",
      "25\n",
      "24\n",
      "23\n",
      "22\n",
      "21\n",
      "20\n",
      "19\n",
      "18\n",
      "17\n",
      "16\n",
      "15\n",
      "14\n",
      "13\n",
      "12\n",
      "11\n",
      "10\n",
      "9\n",
      "8\n",
      "7\n",
      "6\n",
      "5\n",
      "4\n",
      "3\n",
      "2\n",
      "1\n",
      "0\n"
     ]
    }
   ],
   "source": [
    "class CountdownIterator:\n",
    "    def __iter__(self):\n",
    "        return self\n",
    "    \n",
    "    def __init__(self, limit):\n",
    "        self.limit = limit + 1\n",
    "        self.counter = 0\n",
    "    \n",
    "    def __next__(self):\n",
    "        if self.counter < self.limit:\n",
    "            self.counter += 1\n",
    "            return self.limit - self.counter\n",
    "        else:\n",
    "            raise StopIteration\n",
    "\n",
    "count = CountdownIterator(limit=100)\n",
    "for i in count:\n",
    "    print(i)"
   ]
  },
  {
   "cell_type": "markdown",
   "metadata": {},
   "source": [
    "# Files and I/O"
   ]
  },
  {
   "cell_type": "markdown",
   "metadata": {},
   "source": [
    "Write a function\n",
    "count_word(filename, word)\n",
    "that returns how many times word appears in a large file filename.\n",
    "Don't read the entire file into memory."
   ]
  },
  {
   "cell_type": "code",
   "execution_count": 29,
   "metadata": {},
   "outputs": [
    {
     "name": "stdout",
     "output_type": "stream",
     "text": [
      "6\n"
     ]
    }
   ],
   "source": [
    "def count_word(filename, word):\n",
    "    with open(filename, \"rt\") as f:\n",
    "        words = f.read().split().count(word)\n",
    "    return words\n",
    "\n",
    "print(count_word(\"filename.txt\", \"кошка\"))"
   ]
  },
  {
   "cell_type": "markdown",
   "metadata": {},
   "source": [
    "Given a list of heterogeneous values, write its content to a file, splitting values by a newline character."
   ]
  },
  {
   "cell_type": "code",
   "execution_count": 33,
   "metadata": {},
   "outputs": [],
   "source": [
    "some_list = [str(x) for x in range(100000)]\n",
    "with open(\"contentfile.txt\", \"wt\") as f:\n",
    "    for i in some_list:\n",
    "        f.write(f\"{i}\\n\")"
   ]
  },
  {
   "cell_type": "markdown",
   "metadata": {},
   "source": [
    "# Decorators"
   ]
  },
  {
   "cell_type": "markdown",
   "metadata": {},
   "source": [
    "Write a @timeit decorator that measures and prints the time spent by a decorated function"
   ]
  },
  {
   "cell_type": "code",
   "execution_count": 83,
   "metadata": {},
   "outputs": [
    {
     "name": "stdout",
     "output_type": "stream",
     "text": [
      "mapper spent 0.00834 µs\n"
     ]
    }
   ],
   "source": [
    "def timeit(func):\n",
    "    import time\n",
    "    def wrapped(*args, **kwargs):\n",
    "        begin = time.time()\n",
    "        res = func(*args, **kwargs)\n",
    "        end = time.time() - begin\n",
    "        print(f\"{func.__name__} spent {round(end * 1000, 5)} µs\")\n",
    "        return res\n",
    "    return wrapped\n",
    "\n",
    "@timeit\n",
    "def mapper():\n",
    "    map(lambda x: x**2, [i for i in range(100)])\n",
    "\n",
    "mapper()"
   ]
  },
  {
   "cell_type": "markdown",
   "metadata": {},
   "source": [
    "Add a min_seconds argument to the @timeit decorator so it only print the time if it is greater than the value of the argument\n",
    "\n",
    "Decorate a function with docstring and ensure that your decorator keeps it"
   ]
  },
  {
   "cell_type": "code",
   "execution_count": 92,
   "metadata": {},
   "outputs": [
    {
     "name": "stdout",
     "output_type": "stream",
     "text": [
      "Square list of range 100.\n",
      "mapper spent 0.03505 µs\n"
     ]
    }
   ],
   "source": [
    "from functools import wraps\n",
    "\n",
    "def timeit(func):\n",
    "    import time\n",
    "    @wraps(func)\n",
    "    def wrapped(min_secs, *args, **kwargs):\n",
    "        begin = time.time()\n",
    "        res = func(*args, **kwargs)\n",
    "        end = time.time() - begin\n",
    "        if end > min_secs:\n",
    "            print(f\"{func.__name__} spent {round(end * 1000, 5)} µs\")\n",
    "        return res\n",
    "    return wrapped\n",
    "\n",
    "@timeit\n",
    "def mapper():\n",
    "    \"\"\"Square list of range 100.\"\"\"\n",
    "    map(lambda x: x**2, [i for i in range(100)])\n",
    "\n",
    "print(mapper.__doc__)\n",
    "mapper(1.4e-8)"
   ]
  },
  {
   "cell_type": "markdown",
   "metadata": {},
   "source": [
    "Make your decorator usable as a context manager"
   ]
  },
  {
   "cell_type": "code",
   "execution_count": 6,
   "metadata": {},
   "outputs": [
    {
     "name": "stdout",
     "output_type": "stream",
     "text": [
      "Spent 0.01144 µs\n"
     ]
    }
   ],
   "source": [
    "from contextlib import contextmanager\n",
    "\n",
    "@contextmanager\n",
    "def timeit(min_secs):\n",
    "    import time\n",
    "    begin = time.time()\n",
    "    try:\n",
    "        yield\n",
    "    finally:\n",
    "        end = time.time() - begin\n",
    "        if end > min_secs:\n",
    "            print(f\"Spent {round(end * 1000, 5)} µs\")\n",
    "\n",
    "\n",
    "def mapper():\n",
    "    \"\"\"Square list of range 100.\"\"\"\n",
    "    map(lambda x: x**2, [i for i in range(100)])\n",
    "\n",
    "with timeit(1.4e-8):\n",
    "    mapper()"
   ]
  },
  {
   "cell_type": "markdown",
   "metadata": {},
   "source": [
    "# Modules and packages"
   ]
  },
  {
   "cell_type": "markdown",
   "metadata": {},
   "source": [
    "Create a package named mypackage with modules named generators, iterators and decorators"
   ]
  },
  {
   "cell_type": "code",
   "execution_count": 8,
   "metadata": {},
   "outputs": [
    {
     "name": "stdout",
     "output_type": "stream",
     "text": [
      "Fibonacci:\n",
      "1\n",
      "1\n",
      "2\n",
      "3\n",
      "5\n",
      "8\n",
      "13\n",
      "21\n",
      "34\n",
      "55\n",
      "Geometric:\n",
      "1\n",
      "2\n",
      "4\n",
      "8\n",
      "16\n",
      "32\n",
      "64\n",
      "128\n",
      "256\n",
      "512\n",
      "1024\n",
      "2048\n",
      "4096\n",
      "8192\n",
      "16384\n",
      "Countdown:\n",
      "100\n",
      "99\n",
      "98\n",
      "97\n",
      "96\n",
      "95\n",
      "94\n",
      "93\n",
      "92\n",
      "91\n",
      "90\n",
      "89\n",
      "88\n",
      "87\n",
      "86\n",
      "85\n",
      "84\n",
      "83\n",
      "82\n",
      "81\n",
      "80\n",
      "79\n",
      "78\n",
      "77\n",
      "76\n",
      "75\n",
      "74\n",
      "73\n",
      "72\n",
      "71\n",
      "70\n",
      "69\n",
      "68\n",
      "67\n",
      "66\n",
      "65\n",
      "64\n",
      "63\n",
      "62\n",
      "61\n",
      "60\n",
      "59\n",
      "58\n",
      "57\n",
      "56\n",
      "55\n",
      "54\n",
      "53\n",
      "52\n",
      "51\n",
      "50\n",
      "49\n",
      "48\n",
      "47\n",
      "46\n",
      "45\n",
      "44\n",
      "43\n",
      "42\n",
      "41\n",
      "40\n",
      "39\n",
      "38\n",
      "37\n",
      "36\n",
      "35\n",
      "34\n",
      "33\n",
      "32\n",
      "31\n",
      "30\n",
      "29\n",
      "28\n",
      "27\n",
      "26\n",
      "25\n",
      "24\n",
      "23\n",
      "22\n",
      "21\n",
      "20\n",
      "19\n",
      "18\n",
      "17\n",
      "16\n",
      "15\n",
      "14\n",
      "13\n",
      "12\n",
      "11\n",
      "10\n",
      "9\n",
      "8\n",
      "7\n",
      "6\n",
      "5\n",
      "4\n",
      "3\n",
      "2\n",
      "1\n",
      "0\n"
     ]
    }
   ],
   "source": [
    "%run mypackage/generators.py"
   ]
  },
  {
   "cell_type": "code",
   "execution_count": 10,
   "metadata": {},
   "outputs": [
    {
     "name": "stdout",
     "output_type": "stream",
     "text": [
      "Fibonacci iterator:\n",
      "1\n",
      "1\n",
      "2\n",
      "3\n",
      "5\n",
      "8\n",
      "13\n",
      "21\n",
      "34\n",
      "55\n",
      "Geometric Iterator:\n",
      "1\n",
      "2\n",
      "4\n",
      "8\n",
      "16\n",
      "32\n",
      "64\n",
      "128\n",
      "256\n",
      "512\n",
      "Countdown Iterator:\n",
      "100\n",
      "99\n",
      "98\n",
      "97\n",
      "96\n",
      "95\n",
      "94\n",
      "93\n",
      "92\n",
      "91\n",
      "90\n",
      "89\n",
      "88\n",
      "87\n",
      "86\n",
      "85\n",
      "84\n",
      "83\n",
      "82\n",
      "81\n",
      "80\n",
      "79\n",
      "78\n",
      "77\n",
      "76\n",
      "75\n",
      "74\n",
      "73\n",
      "72\n",
      "71\n",
      "70\n",
      "69\n",
      "68\n",
      "67\n",
      "66\n",
      "65\n",
      "64\n",
      "63\n",
      "62\n",
      "61\n",
      "60\n",
      "59\n",
      "58\n",
      "57\n",
      "56\n",
      "55\n",
      "54\n",
      "53\n",
      "52\n",
      "51\n",
      "50\n",
      "49\n",
      "48\n",
      "47\n",
      "46\n",
      "45\n",
      "44\n",
      "43\n",
      "42\n",
      "41\n",
      "40\n",
      "39\n",
      "38\n",
      "37\n",
      "36\n",
      "35\n",
      "34\n",
      "33\n",
      "32\n",
      "31\n",
      "30\n",
      "29\n",
      "28\n",
      "27\n",
      "26\n",
      "25\n",
      "24\n",
      "23\n",
      "22\n",
      "21\n",
      "20\n",
      "19\n",
      "18\n",
      "17\n",
      "16\n",
      "15\n",
      "14\n",
      "13\n",
      "12\n",
      "11\n",
      "10\n",
      "9\n",
      "8\n",
      "7\n",
      "6\n",
      "5\n",
      "4\n",
      "3\n",
      "2\n",
      "1\n",
      "0\n"
     ]
    }
   ],
   "source": [
    "%run mypackage/iterators.py"
   ]
  },
  {
   "cell_type": "code",
   "execution_count": 9,
   "metadata": {},
   "outputs": [
    {
     "name": "stdout",
     "output_type": "stream",
     "text": [
      "Decorator 1:\n",
      "mapper spent 0.00978 µs\n",
      "Decorator 2:\n",
      "Square list of range 100.\n",
      "mapper_2 spent 0.00811 µs\n",
      "Decorator 3:\n",
      "Spent 0.00954 µs\n"
     ]
    }
   ],
   "source": [
    "%run mypackage/decorators.py"
   ]
  }
 ],
 "metadata": {
  "kernelspec": {
   "display_name": "Python 3",
   "language": "python",
   "name": "python3"
  },
  "language_info": {
   "codemirror_mode": {
    "name": "ipython",
    "version": 3
   },
   "file_extension": ".py",
   "mimetype": "text/x-python",
   "name": "python",
   "nbconvert_exporter": "python",
   "pygments_lexer": "ipython3",
   "version": "3.6.5"
  },
  "widgets": {
   "application/vnd.jupyter.widget-state+json": {
    "state": {},
    "version_major": 2,
    "version_minor": 0
   }
  }
 },
 "nbformat": 4,
 "nbformat_minor": 2
}
